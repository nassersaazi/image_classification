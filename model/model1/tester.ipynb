{
 "cells": [
  {
   "cell_type": "code",
   "execution_count": 0,
   "metadata": {
    "colab": {},
    "colab_type": "code",
    "id": "ADK9UlfBxODe"
   },
   "outputs": [],
   "source": [
    "%matplotlib inline\n",
    "import matplotlib.pyplot as plt"
   ]
  },
  {
   "cell_type": "code",
   "execution_count": 0,
   "metadata": {
    "colab": {},
    "colab_type": "code",
    "id": "WepG5IW3UlEE"
   },
   "outputs": [],
   "source": [
    "!pip install -U -q PyDrive\n",
    "from pydrive.auth import GoogleAuth\n",
    "from pydrive.drive import GoogleDrive\n",
    "from google.colab import auth\n",
    "from oauth2client.client import GoogleCredentials\n",
    "import os\n",
    "\n",
    "\n",
    "# Authenticate and create the PyDrive client.\n",
    "# This only needs to be done once per notebook.\n",
    "auth.authenticate_user()\n",
    "gauth = GoogleAuth()\n",
    "gauth.credentials = GoogleCredentials.get_application_default()\n",
    "drive = GoogleDrive(gauth)\n"
   ]
  },
  {
   "cell_type": "code",
   "execution_count": 3,
   "metadata": {
    "colab": {
     "base_uri": "https://localhost:8080/",
     "height": 54
    },
    "colab_type": "code",
    "executionInfo": {
     "elapsed": 8065,
     "status": "ok",
     "timestamp": 1559379283673,
     "user": {
      "displayName": "Filippo Galli",
      "photoUrl": "https://lh3.googleusercontent.com/-o_gNq9kif-E/AAAAAAAAAAI/AAAAAAAAAEs/bqPKVjrbyKo/s64/photo.jpg",
      "userId": "05338270131876081701"
     },
     "user_tz": -120
    },
    "id": "ulh7durv_aZJ",
    "outputId": "7d75a399-dff4-4dd4-d836-f8ede3eee542"
   },
   "outputs": [
    {
     "name": "stdout",
     "output_type": "stream",
     "text": [
      "Drive already mounted at /content/gdrive; to attempt to forcibly remount, call drive.mount(\"/content/gdrive\", force_remount=True).\n"
     ]
    }
   ],
   "source": [
    "from google.colab import drive as mount_drive\n",
    "mount_drive.mount('/content/gdrive')"
   ]
  },
  {
   "cell_type": "code",
   "execution_count": 4,
   "metadata": {
    "colab": {
     "base_uri": "https://localhost:8080/",
     "height": 34
    },
    "colab_type": "code",
    "executionInfo": {
     "elapsed": 9023,
     "status": "ok",
     "timestamp": 1559379284650,
     "user": {
      "displayName": "Filippo Galli",
      "photoUrl": "https://lh3.googleusercontent.com/-o_gNq9kif-E/AAAAAAAAAAI/AAAAAAAAAEs/bqPKVjrbyKo/s64/photo.jpg",
      "userId": "05338270131876081701"
     },
     "user_tz": -120
    },
    "id": "ATnOCOBy_n6X",
    "outputId": "c657a060-5703-4ffd-e538-cb06b1b822aa"
   },
   "outputs": [
    {
     "name": "stderr",
     "output_type": "stream",
     "text": [
      "Using TensorFlow backend.\n"
     ]
    }
   ],
   "source": [
    "from keras.models import load_model, Model\n",
    "from PIL import Image\n",
    "import numpy as np\n",
    "import h5py\n"
   ]
  },
  {
   "cell_type": "code",
   "execution_count": 0,
   "metadata": {
    "colab": {},
    "colab_type": "code",
    "id": "4nNKQg_96J5R"
   },
   "outputs": [],
   "source": [
    "test_path = 'gdrive/My Drive/cassava/test/0'"
   ]
  },
  {
   "cell_type": "code",
   "execution_count": 6,
   "metadata": {
    "colab": {
     "base_uri": "https://localhost:8080/",
     "height": 195
    },
    "colab_type": "code",
    "executionInfo": {
     "elapsed": 32135,
     "status": "ok",
     "timestamp": 1559379307795,
     "user": {
      "displayName": "Filippo Galli",
      "photoUrl": "https://lh3.googleusercontent.com/-o_gNq9kif-E/AAAAAAAAAAI/AAAAAAAAAEs/bqPKVjrbyKo/s64/photo.jpg",
      "userId": "05338270131876081701"
     },
     "user_tz": -120
    },
    "id": "5PcAKvq2YuWm",
    "outputId": "584692d3-028a-483c-8f72-15d94ade75d8"
   },
   "outputs": [
    {
     "name": "stdout",
     "output_type": "stream",
     "text": [
      "WARNING:tensorflow:From /usr/local/lib/python3.6/dist-packages/tensorflow/python/framework/op_def_library.py:263: colocate_with (from tensorflow.python.framework.ops) is deprecated and will be removed in a future version.\n",
      "Instructions for updating:\n",
      "Colocations handled automatically by placer.\n",
      "WARNING:tensorflow:From /usr/local/lib/python3.6/dist-packages/keras/backend/tensorflow_backend.py:3445: calling dropout (from tensorflow.python.ops.nn_ops) with keep_prob is deprecated and will be removed in a future version.\n",
      "Instructions for updating:\n",
      "Please use `rate` instead of `keep_prob`. Rate should be set to `rate = 1 - keep_prob`.\n",
      "WARNING:tensorflow:From /usr/local/lib/python3.6/dist-packages/tensorflow/python/ops/math_ops.py:3066: to_int32 (from tensorflow.python.ops.math_ops) is deprecated and will be removed in a future version.\n",
      "Instructions for updating:\n",
      "Use tf.cast instead.\n"
     ]
    }
   ],
   "source": [
    "model = load_model('gdrive/My Drive/cassava/model_data/egoclassifier_mobile.hdf5')"
   ]
  },
  {
   "cell_type": "code",
   "execution_count": 17,
   "metadata": {
    "colab": {
     "base_uri": "https://localhost:8080/",
     "height": 351
    },
    "colab_type": "code",
    "executionInfo": {
     "elapsed": 30981,
     "status": "ok",
     "timestamp": 1559379819358,
     "user": {
      "displayName": "Filippo Galli",
      "photoUrl": "https://lh3.googleusercontent.com/-o_gNq9kif-E/AAAAAAAAAAI/AAAAAAAAAEs/bqPKVjrbyKo/s64/photo.jpg",
      "userId": "05338270131876081701"
     },
     "user_tz": -120
    },
    "id": "P4LNdhETpZQc",
    "outputId": "2dcbbb3b-ef3f-435a-888b-8e8385f86231"
   },
   "outputs": [
    {
     "name": "stdout",
     "output_type": "stream",
     "text": [
      "About to feed 3774 images\n",
      "200 out of 3774 completed. Spent 1.8 seconds\n",
      "400 out of 3774 completed. Spent 3.4 seconds\n",
      "600 out of 3774 completed. Spent 5.0 seconds\n",
      "800 out of 3774 completed. Spent 6.6 seconds\n",
      "1000 out of 3774 completed. Spent 8.1 seconds\n",
      "1200 out of 3774 completed. Spent 9.7 seconds\n",
      "1400 out of 3774 completed. Spent 11.3 seconds\n",
      "1600 out of 3774 completed. Spent 12.9 seconds\n",
      "1800 out of 3774 completed. Spent 14.5 seconds\n",
      "2000 out of 3774 completed. Spent 16.0 seconds\n",
      "2200 out of 3774 completed. Spent 17.6 seconds\n",
      "2400 out of 3774 completed. Spent 19.2 seconds\n",
      "2600 out of 3774 completed. Spent 20.8 seconds\n",
      "2800 out of 3774 completed. Spent 22.4 seconds\n",
      "3000 out of 3774 completed. Spent 24.0 seconds\n",
      "3200 out of 3774 completed. Spent 25.6 seconds\n",
      "3400 out of 3774 completed. Spent 27.2 seconds\n",
      "3600 out of 3774 completed. Spent 28.7 seconds\n"
     ]
    }
   ],
   "source": [
    "class_list = ['cbb', 'cbsd', 'cgm', 'cmd', 'healthy']\n",
    "\n",
    "from time import time\n",
    "\n",
    "start = time()\n",
    "with open('gdrive/My Drive/cassava/submissions.csv','w') as f:\n",
    "    f.write('Category,Id')\n",
    "    im_list = os.listdir(test_path)\n",
    "    tot = len(im_list)\n",
    "    print(f'About to feed {tot} images')\n",
    "    for idx, img_name in enumerate(im_list):\n",
    "        img_filepath = test_path + '/' + img_name\n",
    "        img_array = np.array(Image.open(img_filepath))\n",
    "        result = np.argmax(model.predict(img_array[np.newaxis,...]))\n",
    "        line = '\\n' + str(class_list[result]) + ',' + img_name\n",
    "        f.write(line)\n",
    "        if ((idx+1)%200 == 0):\n",
    "            summary = f'{idx+1} out of {tot} completed.'\n",
    "            summary = summary + ' Spent {0:.1f} seconds'.format(time()-start)\n",
    "            print(summary)\n",
    "    "
   ]
  },
  {
   "cell_type": "code",
   "execution_count": 0,
   "metadata": {
    "colab": {},
    "colab_type": "code",
    "id": "Kneyj6CfQnzO"
   },
   "outputs": [],
   "source": []
  }
 ],
 "metadata": {
  "accelerator": "GPU",
  "colab": {
   "collapsed_sections": [],
   "name": "tester.ipynb",
   "provenance": [],
   "version": "0.3.2"
  },
  "kernelspec": {
   "display_name": "Python 3",
   "language": "python",
   "name": "python3"
  },
  "language_info": {
   "codemirror_mode": {
    "name": "ipython",
    "version": 3
   },
   "file_extension": ".py",
   "mimetype": "text/x-python",
   "name": "python",
   "nbconvert_exporter": "python",
   "pygments_lexer": "ipython3",
   "version": "3.6.9"
  }
 },
 "nbformat": 4,
 "nbformat_minor": 1
}
